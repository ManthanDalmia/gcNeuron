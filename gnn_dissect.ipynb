{
 "cells": [
  {
   "cell_type": "code",
   "execution_count": null,
   "outputs": [],
   "source": [
    "import torch\n",
    "!pip install torch-geometric torch-scatter torch-sparse -f https: // data.pyg.org/whl/torch-{torch.__version__}.html"
   ],
   "metadata": {
    "collapsed": false
   }
  },
  {
   "cell_type": "code",
   "execution_count": null,
   "metadata": {
    "id": "n9S1gqXry0Su"
   },
   "outputs": [],
   "source": [
    "!rm gnn-dissect -r\n",
    "!git clone https://github.com/ManthanDalmia/gcNeuron.git"
   ]
  },
  {
   "cell_type": "markdown",
   "metadata": {
    "id": "AiDG_1cQz2P-"
   },
   "source": [
    "## Setup"
   ]
  },
  {
   "cell_type": "code",
   "execution_count": null,
   "metadata": {
    "id": "ETPvdUY-2-LA"
   },
   "outputs": [],
   "source": [
    "%cd gnn-dissect/src/"
   ]
  },
  {
   "cell_type": "code",
   "execution_count": null,
   "metadata": {
    "id": "G-AupxgJ3F63"
   },
   "outputs": [],
   "source": [
    "!pip -q install shap pyvis rdkit karateclub torch_explain"
   ]
  },
  {
   "cell_type": "code",
   "source": [
    "!pip install matplotlib == 3.5.1\n",
    "!pip install networkx == 2.6.3"
   ],
   "metadata": {
    "id": "VT1eCicfl7o4"
   },
   "execution_count": null,
   "outputs": []
  },
  {
   "cell_type": "code",
   "execution_count": null,
   "metadata": {
    "id": "PzRqUiUqKAF_"
   },
   "outputs": [],
   "source": [
    "!pip install dill"
   ]
  },
  {
   "cell_type": "code",
   "execution_count": null,
   "metadata": {
    "id": "EOiCssi15am1"
   },
   "outputs": [],
   "source": [
    "from torch_geometric.data import Data\n",
    "from torch_geometric.nn import MessagePassing\n",
    "from torch_geometric.utils import k_hop_subgraph, to_networkx"
   ]
  },
  {
   "cell_type": "code",
   "execution_count": null,
   "metadata": {
    "id": "PsYXsec3z5Hk"
   },
   "outputs": [],
   "source": [
    "import copy\n",
    "import dill\n",
    "import importlib\n",
    "import json\n",
    "import math\n",
    "import matplotlib.pyplot as plt\n",
    "import node_explainer\n",
    "import numpy as np\n",
    "import pandas as pd\n",
    "import seaborn as sns\n",
    "import shap\n",
    "import torch\n",
    "import vis\n",
    "from collections import defaultdict\n",
    "from concept_utils import *\n",
    "from graph_utils import *\n",
    "from matplotlib import rc\n",
    "from neuron_metrics import *\n",
    "from pipeline import load_dataset\n",
    "from pipeline import train_standard_model\n",
    "from torch_geometric.data import Data\n",
    "from tqdm.notebook import tqdm\n",
    "from vis import visualise_graph\n",
    "\n",
    "import concept_ranker\n",
    "import concepts"
   ]
  },
  {
   "cell_type": "code",
   "execution_count": null,
   "metadata": {
    "id": "tryT0h2g5Nr0"
   },
   "outputs": [],
   "source": [
    "import dill\n",
    "\n",
    "\n",
    "def strip(concepts):\n",
    "    lightweight = {}\n",
    "    for k, dic in concepts.items():\n",
    "        dic_ = {}\n",
    "        for k_, (_, v1, v2) in dic.items():\n",
    "            dic_[k_] = (None, v1, v2)\n",
    "        lightweight[k] = dic_\n",
    "    return lightweight\n",
    "\n",
    "\n",
    "def save_concepts(concepts, fname: str):\n",
    "    import dill\n",
    "    #concepts = strip(concepts)\n",
    "    f = open(f'../concepts/{fname}.pkl', 'wb')\n",
    "    dill.dump(concepts, f, protocol=dill.HIGHEST_PROTOCOL)\n",
    "\n",
    "\n",
    "def load_concepts(fname: str):\n",
    "    f = open(f'../concepts/{fname}.pkl', 'rb')\n",
    "    return dill.load(f)"
   ]
  },
  {
   "cell_type": "markdown",
   "metadata": {
    "id": "ZBkliMgH5qA_"
   },
   "source": [
    "## MUTAG"
   ]
  },
  {
   "cell_type": "code",
   "execution_count": null,
   "metadata": {
    "id": "J3ocGveX9biN"
   },
   "outputs": [],
   "source": [
    "train_loader_mutag, test_loader_mutag, _, dataset_mutag, train_dataset, test_dataset, _ = load_dataset('MUTAG')\n",
    "model_mutag = train_standard_model('MUTAG', 'GIN', fold=0)\n",
    "neuron_concepts = model_mutag.concept_search('MUTAG', train_dataset, depth=3, top=64, augment=False, level=1)"
   ]
  },
  {
   "cell_type": "code",
   "execution_count": null,
   "metadata": {
    "id": "1GGfJ1bwwx3i"
   },
   "outputs": [],
   "source": [
    "save_concepts(neuron_concepts, 'mutag')"
   ]
  },
  {
   "cell_type": "markdown",
   "metadata": {
    "id": "NDgft8Bzhbuk"
   },
   "source": [
    "### MUTAG: finding concepts"
   ]
  },
  {
   "cell_type": "code",
   "execution_count": null,
   "metadata": {
    "id": "SlaWbz96hbdB"
   },
   "outputs": [],
   "source": [
    "cleaned_concepts, distilled = clean_concepts(neuron_concepts)\n",
    "neuron_concepts"
   ]
  },
  {
   "cell_type": "code",
   "execution_count": null,
   "metadata": {
    "id": "xFSPy5iAig9G"
   },
   "outputs": [],
   "source": [
    "units = [22, 0, 50]\n",
    "graphs = [11, 61, 151]\n",
    "for g_ in graphs:\n",
    "    for n in units:\n",
    "        g = dataset_mutag.get(g_)\n",
    "        final_mask, node_values = model_mutag.expl_gp_neurons(g, 1, debug=True, rank=set([n]), gamma=1000,\n",
    "                                                              sigma=get_ths(cleaned_concepts),\n",
    "                                                              names=get_names(cleaned_concepts),\n",
    "                                                              scores=get_scores(cleaned_concepts), cum=True,\n",
    "                                                              show_labels=False, show_node_mask=True, explore=True,\n",
    "                                                              as_molecule=True, show_contribs=True, force=True)\n",
    "        vis.show_graph(Data(g.x, g.edge_index, edge_attr=g.edge_attr), final_mask,\n",
    "                       node_values=None, show_labels=False,\n",
    "                       anchor=get_ths(cleaned_concepts)[n] * 2,\n",
    "                       as_molecule=True,\n",
    "                       custom_name=f'mutag_concepts/mutag-graph{g_}_neuron{n}.png')\n"
   ]
  },
  {
   "cell_type": "markdown",
   "metadata": {
    "id": "-_3Lqul0Fxww"
   },
   "source": [
    "### MUTAG: global explanations"
   ]
  },
  {
   "cell_type": "code",
   "execution_count": null,
   "metadata": {
    "id": "3_peauwA98La"
   },
   "outputs": [],
   "source": [
    "from concept_ranker import by_weight_adv, by_weight\n",
    "import importlib\n",
    "import concept_utils\n",
    "\n",
    "importlib.reload(concept_utils)\n",
    "\n",
    "target_class = 1\n",
    "neurons, vals = by_weight(model_mutag, target_class)\n",
    "task = 'mutag'\n",
    "dev = model_mutag.device\n",
    "\n",
    "\n",
    "def get_global_vis(n):\n",
    "    best_g = None\n",
    "    best_s = float('-inf')\n",
    "    for i in range(len(train_dataset)):\n",
    "        g = train_dataset[i]\n",
    "        pf = model_mutag.partial_forward(g.x.to(dev), g.edge_index.to(dev)).detach().cpu()\n",
    "        score = pf[:, n].max()\n",
    "        if score > best_s:\n",
    "            best_s = score\n",
    "            best_g = g\n",
    "    return best_g, score\n",
    "\n",
    "\n",
    "seen_concepts = set()\n",
    "\n",
    "for n, v in zip(neurons, vals):\n",
    "    if v <= 0:\n",
    "        break\n",
    "    if n in cleaned_concepts:\n",
    "        if cleaned_concepts[n][1][2] in seen_concepts:\n",
    "            continue\n",
    "\n",
    "        g, _ = get_global_vis(n)\n",
    "        final_mask, node_values = model_mutag.expl_gp_neurons(g, target_class, debug=True, rank=set([n]), gamma=1000,\n",
    "                                                              sigma=get_ths(cleaned_concepts),\n",
    "                                                              names=concept_utils.get_names(cleaned_concepts),\n",
    "                                                              scores=get_scores(cleaned_concepts), cum=True,\n",
    "                                                              show_labels=False, show_node_mask=True, explore=True,\n",
    "                                                              as_molecule=True, show_contribs=True, force=True)\n",
    "        vis.show_graph(Data(g.x, g.edge_index,\n",
    "                            edge_attr=g.edge_attr), final_mask, node_values=node_values, show_labels=False,\n",
    "                       anchor=get_ths(cleaned_concepts)[n] * 3, as_molecule=True,\n",
    "                       custom_name=f'{task}_global/{task}_global_class{target_class}_neuron{n}_{v : .4f}.png')\n",
    "        seen_concepts.add(cleaned_concepts[n][1][2])"
   ]
  },
  {
   "cell_type": "code",
   "execution_count": null,
   "metadata": {
    "id": "73LPyH_A_CWl"
   },
   "outputs": [],
   "source": [
    "graphs = [11, 61, 151]\n",
    "unit = 50\n",
    "concepts = set([unit])\n",
    "\n",
    "for g_ in graphs:\n",
    "    g = dataset_mutag.get(g_)\n",
    "    final_mask, node_values = model_mutag.expl_gp_neurons(g, 1, debug=True, rank=set([unit]), gamma=1000,\n",
    "                                                          sigma=get_ths(cleaned_concepts),\n",
    "                                                          names=get_names(cleaned_concepts),\n",
    "                                                          scores=get_scores(cleaned_concepts), cum=True,\n",
    "                                                          show_labels=False, show_node_mask=True, explore=True,\n",
    "                                                          as_molecule=True, show_contribs=True, force=True)\n",
    "    vis.show_graph(Data(g.x, g.edge_index, edge_attr=g.edge_attr), final_mask, node_values=node_values,\n",
    "                   show_labels=False, anchor=get_ths(cleaned_concepts)[unit] * 2.0,\n",
    "                   custom_name=f'mutag_graph{g_}unit{unit}', as_molecule=False)"
   ]
  },
  {
   "cell_type": "code",
   "execution_count": null,
   "metadata": {
    "id": "p5nPI1lI_RJ1"
   },
   "outputs": [],
   "source": [
    "import vis\n",
    "\n",
    "g = dataset_mutag.get(153)\n",
    "\n",
    "final_mask, node_values = model_mutag.expl_gp_neurons(g, 0, debug=True, rank=64, gamma=1000,\n",
    "                                                      sigma=get_ths(cleaned_concepts),\n",
    "                                                      names=get_names(cleaned_concepts),\n",
    "                                                      scores=get_scores(cleaned_concepts), cum=True, show_labels=False,\n",
    "                                                      show_node_mask=True, explore=True, as_molecule=True,\n",
    "                                                      show_contribs=True, entropic=False)"
   ]
  },
  {
   "cell_type": "code",
   "execution_count": null,
   "metadata": {
    "id": "N9uKLozm_SZO"
   },
   "outputs": [],
   "source": [
    "vis.show_graph(Data(g.x, g.edge_index, edge_attr=g.edge_attr), final_mask, node_values=None, show_labels=False,\n",
    "               anchor=None, custom_name=f'mutag_graph153unit{unit}', as_molecule=False)"
   ]
  },
  {
   "cell_type": "markdown",
   "metadata": {
    "id": "_hp0W9OYxY6m"
   },
   "source": [
    "## IMDB"
   ]
  },
  {
   "cell_type": "code",
   "execution_count": null,
   "metadata": {
    "id": "6xkjBs_f_hgJ"
   },
   "outputs": [],
   "source": [
    "model = train_standard_model('IMDB', 'GIN', fold=0)\n",
    "\n",
    "train_loader, test_loader, val_loader, dataset, train_dataset, test_dataset, val_dataset = load_dataset('IMDB')"
   ]
  },
  {
   "cell_type": "code",
   "execution_count": null,
   "metadata": {
    "id": "di3dyOJc_iVZ"
   },
   "outputs": [],
   "source": [
    "neuron_concepts = model.concept_search('IMDB', train_dataset, depth=2, top=64, augment=False, omega=[10, 20, 20])"
   ]
  },
  {
   "cell_type": "code",
   "execution_count": null,
   "metadata": {
    "id": "WYuJou75ngFD"
   },
   "outputs": [],
   "source": [
    "save_concepts(neuron_concepts, 'IMDB')"
   ]
  },
  {
   "cell_type": "code",
   "execution_count": null,
   "metadata": {
    "id": "IX7-5jIrrLTq"
   },
   "outputs": [],
   "source": [
    "cleaned_concepts, distilled = clean_concepts(neuron_concepts)"
   ]
  },
  {
   "cell_type": "markdown",
   "metadata": {
    "id": "VETzB4FBseln"
   },
   "source": [
    "### IMDB: searching for concepts"
   ]
  },
  {
   "cell_type": "code",
   "execution_count": null,
   "metadata": {
    "id": "QzluEBMXnr_Y"
   },
   "outputs": [],
   "source": [
    "import importlib\n",
    "import vis\n",
    "\n",
    "dev = model.device\n",
    "units = [21, 12, 7]\n",
    "graphs = [631, 714, 58]\n",
    "for g_ in graphs:\n",
    "    for n in units:\n",
    "        g = dataset[g_]\n",
    "        final_mask, node_values = model.expl_gp_neurons(g, 1, debug=False, rank=set([n]), gamma=1000,\n",
    "                                                        sigma=get_ths(cleaned_concepts),\n",
    "                                                        names=get_names(cleaned_concepts),\n",
    "                                                        scores=get_scores(cleaned_concepts), cum=True,\n",
    "                                                        show_labels=False, show_node_mask=True, explore=True,\n",
    "                                                        as_molecule=True, show_contribs=True, force=True)\n",
    "        vis.show_graph(Data(g.x, g.edge_index, edge_attr=g.edge_attr), final_mask,\n",
    "                       node_values=None, show_labels=False,\n",
    "                       anchor=get_ths(cleaned_concepts)[n],\n",
    "                       as_molecule=False,\n",
    "                       custom_name=f'imdb_concepts/imdb-graph{g_}_neuron{n}.svg')\n"
   ]
  },
  {
   "cell_type": "code",
   "execution_count": null,
   "metadata": {
    "id": "rkW3ZOAdr29j"
   },
   "outputs": [],
   "source": [
    "dev = model.device\n",
    "\n",
    "import node_explainer\n",
    "import importlib\n",
    "\n",
    "graphs = [631, 714, 58]\n",
    "unit = 59\n",
    "concepts = set([unit])\n",
    "y = 1\n",
    "\n",
    "for g_ in graphs:\n",
    "    g = dataset[g_]\n",
    "\n",
    "    final_mask, node_values = model.expl_gp_neurons(g, y, debug=True, gamma=1030, sigma=get_ths(cleaned_concepts),\n",
    "                                                    names=get_names(cleaned_concepts),\n",
    "                                                    scores=get_scores(cleaned_concepts), rank=concepts, cum=False,\n",
    "                                                    show_node_mask=True, anchor=0.44, show_contribs=True, force=True,\n",
    "                                                    explore=True)\n",
    "    vis.show_graph(Data(g.x, g.edge_index, edge_attr=g.edge_attr), final_mask, node_values=node_values,\n",
    "                   show_labels=False, anchor=get_ths(cleaned_concepts)[unit] * 1.2, as_molecule=False)"
   ]
  },
  {
   "cell_type": "markdown",
   "metadata": {
    "id": "LKP7ufeSsBps"
   },
   "source": [
    "### IMDB: global explanations"
   ]
  },
  {
   "cell_type": "code",
   "execution_count": null,
   "metadata": {
    "id": "w9LwfDss0jFz"
   },
   "outputs": [],
   "source": [
    "from concept_ranker import by_weight\n",
    "\n",
    "target_class = 1\n",
    "neurons, vals = by_weight(model, target_class)"
   ]
  },
  {
   "cell_type": "code",
   "execution_count": null,
   "metadata": {
    "id": "R_qbyEalr8HQ"
   },
   "outputs": [],
   "source": [
    "\n",
    "def get_global_vis(n):\n",
    "    best_g = None\n",
    "    best_s = float('-inf')\n",
    "    for i in range(len(dataset)):\n",
    "        g = dataset[i]\n",
    "        if g.x.shape[0] > 100:\n",
    "            continue\n",
    "        pf = model.partial_forward(g.x.to(dev), g.edge_index.to(dev)).detach().cpu()\n",
    "        score = pf[:, n].max().item()\n",
    "        if score > best_s:\n",
    "            best_s = score\n",
    "            best_g = g\n",
    "    return best_g, best_s\n",
    "\n",
    "\n",
    "seen_concepts = set()\n",
    "\n",
    "for n, v in zip(neurons, vals):\n",
    "    if v <= 0:\n",
    "        break\n",
    "    if n in cleaned_concepts:\n",
    "        if cleaned_concepts[n][1][2] in seen_concepts:\n",
    "            continue\n",
    "        print(f'Neuron {n} Concept {cleaned_concepts[n]}')\n",
    "        g, sc = get_global_vis(n)\n",
    "        final_mask, node_values = model.expl_gp_neurons(g, target_class, debug=True, rank=set([n]), gamma=1000,\n",
    "                                                        sigma=get_ths(cleaned_concepts),\n",
    "                                                        names=get_names(cleaned_concepts),\n",
    "                                                        scores=get_scores(cleaned_concepts), cum=True,\n",
    "                                                        show_labels=False, show_node_mask=True, explore=True,\n",
    "                                                        as_molecule=False, show_contribs=True, force=True)\n",
    "        vis.show_graph(Data(g.x, g.edge_index, edge_attr=g.edge_attr), final_mask,\n",
    "                       node_values=node_values, show_labels=False,\n",
    "                       anchor=get_ths(cleaned_concepts)[n], as_molecule=False,\n",
    "                       custom_name=f'imdb_global/imdb_global_class{target_class}_neuron{n}_{v : .4f}.svg')\n",
    "        seen_concepts.add(cleaned_concepts[n][1][2])"
   ]
  },
  {
   "cell_type": "markdown",
   "metadata": {
    "id": "_82sP1QG7hby"
   },
   "source": [
    "## REDDIT"
   ]
  },
  {
   "cell_type": "code",
   "execution_count": null,
   "metadata": {
    "id": "Q7sJw-RCX7qU"
   },
   "outputs": [],
   "source": [
    "torch.cuda.empty_cache()"
   ]
  },
  {
   "cell_type": "code",
   "execution_count": null,
   "metadata": {
    "id": "huqVbezM7gRV"
   },
   "outputs": [],
   "source": [
    "model = train_standard_model('REDDIT', 'GCN', fold=0)\n",
    "train_loader, test_loader, _, dataset, train_dataset, test_dataset, val_dataset = load_dataset('REDDIT')"
   ]
  },
  {
   "cell_type": "code",
   "execution_count": null,
   "metadata": {
    "id": "4HrKIvqS745H"
   },
   "outputs": [],
   "source": [
    "neuron_concepts = model.concept_search('REDDIT', train_dataset, depth=2, top=64, augment=False, omega=[10, 25, 20])"
   ]
  },
  {
   "cell_type": "code",
   "execution_count": null,
   "metadata": {
    "id": "25XBOlRCR9Gx"
   },
   "outputs": [],
   "source": [
    "save_concepts(neuron_concepts, 'REDDIT')"
   ]
  },
  {
   "cell_type": "markdown",
   "metadata": {
    "id": "yNWeUEFw8D4O"
   },
   "source": [
    "### REDDIT: searching for concepts"
   ]
  },
  {
   "cell_type": "code",
   "execution_count": null,
   "metadata": {
    "id": "HzNzC2SxDBMt"
   },
   "outputs": [],
   "source": [
    "cleaned_concepts, distilled = clean_concepts(neuron_concepts)"
   ]
  },
  {
   "cell_type": "code",
   "execution_count": null,
   "metadata": {
    "id": "_VtJlP_NFsR4"
   },
   "outputs": [],
   "source": [
    "units = [46, 51]\n",
    "graphs = [865, 271, 534]\n",
    "for g_ in graphs:\n",
    "    for n in units:\n",
    "        g = dataset[g_]\n",
    "        final_mask, node_values = model.expl_gp_neurons(g, 1, debug=True, rank=set([n]), gamma=1000,\n",
    "                                                        sigma=get_ths(cleaned_concepts),\n",
    "                                                        names=get_names(cleaned_concepts),\n",
    "                                                        scores=get_scores(cleaned_concepts), cum=True,\n",
    "                                                        show_labels=False, show_node_mask=True, explore=True,\n",
    "                                                        as_molecule=True, show_contribs=True, force=True)\n",
    "        vis.show_graph(Data(g.x, g.edge_index, edge_attr=g.edge_attr), final_mask,\n",
    "                       node_values=node_values, show_labels=False,\n",
    "                       anchor=get_ths(cleaned_concepts)[n],\n",
    "                       as_molecule=False,\n",
    "                       custom_name=f'reddit_concepts/reddit-graph{g_}_neuron{n}.svg')\n"
   ]
  },
  {
   "cell_type": "code",
   "execution_count": null,
   "metadata": {
    "id": "UK3HSYDiIdAU"
   },
   "outputs": [],
   "source": [
    "dev = model.device\n",
    "for j in range(64):\n",
    "    g = dataset[184]\n",
    "    pf = model.partial_forward(g.x.to(dev), g.edge_index.to(dev)).detach().cpu()\n",
    "    pos_count = (pf[:, j] > 0).sum()\n",
    "    if pos_count > 2:\n",
    "        print(f'{j}  {pos_count}')\n"
   ]
  },
  {
   "cell_type": "code",
   "execution_count": null,
   "metadata": {
    "id": "Y9KLBDIRI2Qw"
   },
   "outputs": [],
   "source": [
    "for g in range(1000):\n",
    "    if 190 < dataset[g].x.shape[0] < 200 and dataset[g].y == 0:\n",
    "        print(g)"
   ]
  },
  {
   "cell_type": "code",
   "execution_count": null,
   "metadata": {
    "id": "x6W7MDJxEKCI"
   },
   "outputs": [],
   "source": [
    "import vis\n",
    "\n",
    "graphs = [280]\n",
    "unit = 51\n",
    "concepts = set([unit])\n",
    "\n",
    "for g_ in graphs:\n",
    "    g = dataset[g_]\n",
    "    final_mask, node_values = model.expl_gp_neurons(g, 0, debug=True,\n",
    "                                                    rank=set([unit]), gamma=1000, sigma=get_ths(cleaned_concepts),\n",
    "                                                    names=get_names(cleaned_concepts),\n",
    "                                                    scores=get_scores(cleaned_concepts), cum=True, show_labels=False,\n",
    "                                                    show_node_mask=True, explore=True, as_molecule=False,\n",
    "                                                    show_contribs=True, force=True)\n",
    "    vis.show_graph(Data(g.x, g.edge_index, edge_attr=g.edge_attr), final_mask, node_values=node_values,\n",
    "                   show_labels=False, anchor=get_ths(cleaned_concepts)[unit] * 1.0,\n",
    "                   custom_name=f'reddit_graph{g_}unit{unit}', as_molecule=False)"
   ]
  },
  {
   "cell_type": "markdown",
   "metadata": {
    "id": "PMj6zJXO8M6Z"
   },
   "source": [
    "### REDDIT: global explanations"
   ]
  },
  {
   "cell_type": "code",
   "execution_count": null,
   "metadata": {
    "id": "-6BBYhkF8JTz"
   },
   "outputs": [],
   "source": [
    "from concept_ranker import by_weight_adv\n",
    "\n",
    "target_class = 1\n",
    "neurons, vals = by_weight_adv(model, target_class)\n",
    "task = 'reddit'\n",
    "\n",
    "\n",
    "def get_global_vis(n):\n",
    "    best_g = None\n",
    "    best_s = float('-inf')\n",
    "    for i in range(len(train_dataset)):\n",
    "        g = dataset[i]\n",
    "        if g.x.shape[0] > 300:\n",
    "            continue\n",
    "        pf = model.partial_forward(g.x.to(dev), g.edge_index.to(dev)).detach().cpu()\n",
    "        score = pf[:, n].max()\n",
    "        if score > best_s:\n",
    "            best_s = score\n",
    "            best_g = g\n",
    "    return best_g, score\n",
    "\n",
    "\n",
    "seen_concepts = set()\n",
    "\n",
    "for n, v in zip(neurons, vals):\n",
    "    if v <= 0:\n",
    "        break\n",
    "    if n in cleaned_concepts:\n",
    "        if cleaned_concepts[n][0] in seen_concepts:\n",
    "            continue\n",
    "\n",
    "        g, _ = get_global_vis(n)\n",
    "        final_mask, node_values = model.expl_gp_neurons(g, target_class, debug=True, rank=set([n]), gamma=1000,\n",
    "                                                        sigma=get_ths(cleaned_concepts),\n",
    "                                                        names=get_names(cleaned_concepts),\n",
    "                                                        scores=get_scores(cleaned_concepts), cum=True,\n",
    "                                                        show_labels=False, show_node_mask=True, explore=True,\n",
    "                                                        as_molecule=False, show_contribs=True, force=True)\n",
    "        vis.show_graph(Data(g.x, g.edge_index,\n",
    "                            edge_attr=g.edge_attr), final_mask, node_values=node_values, show_labels=False,\n",
    "                       anchor=get_ths(cleaned_concepts)[n], as_molecule=False,\n",
    "                       custom_name=f'{task}_global/{task}_global_class{target_class}_neuron{n}_{v : .4f}.svg')\n",
    "        seen_concepts.add(cleaned_concepts[n][0])"
   ]
  },
  {
   "cell_type": "markdown",
   "metadata": {
    "id": "J8wauh5s6TI5"
   },
   "source": [
    "# CONCEPTS AT DIFFERENT LAYERS"
   ]
  },
  {
   "cell_type": "code",
   "execution_count": null,
   "metadata": {
    "id": "m-QBKPxN6WOW",
    "colab": {
     "base_uri": "https://localhost:8080/"
    },
    "outputId": "c0add887-b9ab-4c64-ba49-ba1d19738075"
   },
   "outputs": [],
   "source": [
    "for epochs in [1, 2, 3, 4, 5, 6, 7, 8, 9, 10, 20, 30, 40, 50, 60, 70, 80, 90, 100, 110, 120, 130, 140, 150, 160, 170,\n",
    "               180, 190, 200, 210, 220, 230, 240, 250, 260, 270, 290, 300, 310, 320, 330, 340, 350, 360, 370, 380, 390,\n",
    "               400]:\n",
    "    train_loader_mutag, test_loader_mutag, _, dataset_mutag, train_dataset, test_dataset, _ = load_dataset('MUTAG')\n",
    "    model = train_standard_model('MUTAG', 'GIN', custom_name=f'mutag-train-{epochs}-epochs', custom_epochs=epochs)\n",
    "    neuron_concepts = model.concept_search('MUTAG', train_dataset, depth=3, top=64, augment=False, level=1)\n",
    "    save_concepts(neuron_concepts, f'MUTAG {epochs}')\n",
    "    torch.cuda.empty_cache()\n",
    "\n",
    "    model = train_standard_model('REDDIT', 'GCN', custom_name=f'reddit-train-{epochs}-epochs', custom_epochs=epochs,\n",
    "                                 overwrite=True)\n",
    "    train_loader, test_loader, _, dataset, train_dataset, test_dataset, val_dataset = load_dataset('REDDIT')\n",
    "    neuron_concepts = model.concept_search('REDDIT', train_dataset, depth=2, top=64, augment=False,\n",
    "                                           omega=[10, 25, 20])\n",
    "    save_concepts(neuron_concepts, f'REDDIT {epochs}')\n",
    "    torch.cuda.empty_cache()\n",
    "\n",
    "    model = train_standard_model('PROTEINS', 'GIN', custom_name=f'protein-train-{epochs}-epochs', custom_epochs=epochs,\n",
    "                                 custom_es=100000, overwrite=True)\n",
    "    train_loader, test_loader, _, dataset, train_dataset, test_dataset, val_dataset = load_dataset('PROTEINS')\n",
    "    neuron_concepts = model.concept_search('PROTEINS', train_dataset, depth=4, top=64, augment=False,\n",
    "                                           omega=[15, 25, 20])\n",
    "    save_concepts(neuron_concepts, f'PROTEINS {epochs}')\n",
    "    torch.cuda.empty_cache()"
   ]
  },
  {
   "cell_type": "code",
   "execution_count": null,
   "metadata": {
    "id": "bWZdvIulPSyu"
   },
   "outputs": [],
   "source": [
    "for level in range(1, 11):\n",
    "    for fold in range(3):\n",
    "        train_loader_mutag, test_loader_mutag, _, dataset_mutag, train_dgataset, test_dataset, _ = load_dataset('MUTAG')\n",
    "        model = train_standard_model('MUTAG', 'GIN', custom_layers=10, custom_name=f'mutag-deep-fold{fold}',\n",
    "                                     overwrite=True)\n",
    "        neuron_concepts = model.concept_search('MUTAG', train_dataset, depth=level, top=64, augment=False, level=level)\n",
    "        save_concepts(neuron_concepts, f'MUTAG-deep-level{level}-fold{fold}')\n",
    "        torch.cuda.empty_cache()"
   ]
  }
 ],
 "metadata": {
  "accelerator": "GPU",
  "colab": {
   "machine_shape": "hm",
   "provenance": []
  },
  "gpuClass": "premium",
  "kernelspec": {
   "display_name": "Python 3",
   "name": "python3"
  },
  "language_info": {
   "name": "python"
  }
 },
 "nbformat": 4,
 "nbformat_minor": 0
}
